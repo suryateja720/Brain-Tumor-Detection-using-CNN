{
 "cells": [
  {
   "cell_type": "code",
   "execution_count": 1,
   "metadata": {
    "_cell_guid": "b1076dfc-b9ad-4769-8c92-a6c4dae69d19",
    "_uuid": "8f2839f25d086af736a60e9eeb907d3b93b6e0e5"
   },
   "outputs": [],
   "source": [
    "import numpy as np\n",
    "import pandas as pd\n",
    "import os"
   ]
  },
  {
   "cell_type": "markdown",
   "metadata": {},
   "source": [
    "## Importing our libraries"
   ]
  },
  {
   "cell_type": "code",
   "execution_count": 2,
   "metadata": {
    "_cell_guid": "79c7e3d0-c299-4dcb-8224-4455121ee9b0",
    "_uuid": "d629ff2d2480ee46fbb7e2d37f6b5fab8052498a"
   },
   "outputs": [],
   "source": [
    "import matplotlib.pyplot as plt\n",
    "import seaborn as sns\n",
    "from skimage.io import imread\n",
    "from sklearn.model_selection import train_test_split\n",
    "import keras\n",
    "from keras import Sequential\n",
    "from keras.applications import MobileNetV2\n",
    "from keras.layers import Dense\n",
    "from tensorflow.keras.preprocessing import image"
   ]
  },
  {
   "cell_type": "code",
   "execution_count": 3,
   "metadata": {},
   "outputs": [
    {
     "data": {
      "text/html": [
       "<div>\n",
       "<style scoped>\n",
       "    .dataframe tbody tr th:only-of-type {\n",
       "        vertical-align: middle;\n",
       "    }\n",
       "\n",
       "    .dataframe tbody tr th {\n",
       "        vertical-align: top;\n",
       "    }\n",
       "\n",
       "    .dataframe thead th {\n",
       "        text-align: right;\n",
       "    }\n",
       "</style>\n",
       "<table border=\"1\" class=\"dataframe\">\n",
       "  <thead>\n",
       "    <tr style=\"text-align: right;\">\n",
       "      <th></th>\n",
       "      <th>Image</th>\n",
       "      <th>Class</th>\n",
       "    </tr>\n",
       "  </thead>\n",
       "  <tbody>\n",
       "    <tr>\n",
       "      <th>0</th>\n",
       "      <td>Image1</td>\n",
       "      <td>0</td>\n",
       "    </tr>\n",
       "    <tr>\n",
       "      <th>1</th>\n",
       "      <td>Image2</td>\n",
       "      <td>0</td>\n",
       "    </tr>\n",
       "    <tr>\n",
       "      <th>2</th>\n",
       "      <td>Image3</td>\n",
       "      <td>1</td>\n",
       "    </tr>\n",
       "    <tr>\n",
       "      <th>3</th>\n",
       "      <td>Image4</td>\n",
       "      <td>1</td>\n",
       "    </tr>\n",
       "    <tr>\n",
       "      <th>4</th>\n",
       "      <td>Image5</td>\n",
       "      <td>0</td>\n",
       "    </tr>\n",
       "  </tbody>\n",
       "</table>\n",
       "</div>"
      ],
      "text/plain": [
       "    Image  Class\n",
       "0  Image1      0\n",
       "1  Image2      0\n",
       "2  Image3      1\n",
       "3  Image4      1\n",
       "4  Image5      0"
      ]
     },
     "execution_count": 3,
     "metadata": {},
     "output_type": "execute_result"
    }
   ],
   "source": [
    "brain_df = pd.read_csv('C:/Users/Surya/Desktop/Lab Programs/NNDL/New folder/Brain Tumor.csv',usecols=[0,1])\n",
    "brain_df.head()"
   ]
  },
  {
   "cell_type": "markdown",
   "metadata": {},
   "source": [
    "## Get a closer insights about our dataset"
   ]
  },
  {
   "cell_type": "markdown",
   "metadata": {},
   "source": [
    "### Check if there is any null value or not "
   ]
  },
  {
   "cell_type": "code",
   "execution_count": 4,
   "metadata": {},
   "outputs": [
    {
     "data": {
      "text/plain": [
       "Image    0\n",
       "Class    0\n",
       "dtype: int64"
      ]
     },
     "execution_count": 4,
     "metadata": {},
     "output_type": "execute_result"
    }
   ],
   "source": [
    "brain_df.isna().sum()"
   ]
  },
  {
   "cell_type": "markdown",
   "metadata": {},
   "source": [
    "### Check imbalance or not\n",
    "##### we could deal with it later on by performing data augmentation"
   ]
  },
  {
   "cell_type": "code",
   "execution_count": 5,
   "metadata": {},
   "outputs": [
    {
     "data": {
      "text/plain": [
       "0    2079\n",
       "1    1683\n",
       "Name: Class, dtype: int64"
      ]
     },
     "execution_count": 5,
     "metadata": {},
     "output_type": "execute_result"
    }
   ],
   "source": [
    "brain_df['Class'].value_counts()"
   ]
  },
  {
   "cell_type": "code",
   "execution_count": 6,
   "metadata": {},
   "outputs": [
    {
     "name": "stderr",
     "output_type": "stream",
     "text": [
      "C:\\Users\\Surya\\anaconda3\\lib\\site-packages\\seaborn\\_decorators.py:36: FutureWarning: Pass the following variable as a keyword arg: x. From version 0.12, the only valid positional argument will be `data`, and passing other arguments without an explicit keyword will result in an error or misinterpretation.\n",
      "  warnings.warn(\n"
     ]
    },
    {
     "data": {
      "text/plain": [
       "<AxesSubplot:xlabel='Class', ylabel='count'>"
      ]
     },
     "execution_count": 6,
     "metadata": {},
     "output_type": "execute_result"
    },
    {
     "data": {
      "image/png": "[encoded data removed]",
      "text/plain": [
       "<Figure size 432x288 with 1 Axes>"
      ]
     },
     "metadata": {
      "needs_background": "light"
     },
     "output_type": "display_data"
    }
   ],
   "source": [
    "#plot the value count\n",
    "sns.countplot(brain_df['Class'])"
   ]
  },
  {
   "cell_type": "markdown",
   "metadata": {},
   "source": [
    "## Get our data ready!!"
   ]
  },
  {
   "cell_type": "code",
   "execution_count": 7,
   "metadata": {},
   "outputs": [],
   "source": [
    "path_list = []\n",
    "base_path = 'C:/Users/Surya/Desktop/Lab Programs/NNDL/New folder/Brain Tumor Classification/Brain Tumor'\n",
    "for entry in os.listdir(base_path):\n",
    "    path_list.append( os.path.join(base_path,entry))"
   ]
  },
  {
   "cell_type": "code",
   "execution_count": 8,
   "metadata": {},
   "outputs": [],
   "source": [
    "#create path dictonary and then map itto brain_df['pathes']\n",
    "pathes_dict={os.path.splitext(os.path.basename(x))[0]: x for x in path_list}\n",
    "brain_df['pathes'] = brain_df['Image'].map(pathes_dict.get)"
   ]
  },
  {
   "cell_type": "code",
   "execution_count": 9,
   "metadata": {},
   "outputs": [
    {
     "data": {
      "text/html": [
       "<div>\n",
       "<style scoped>\n",
       "    .dataframe tbody tr th:only-of-type {\n",
       "        vertical-align: middle;\n",
       "    }\n",
       "\n",
       "    .dataframe tbody tr th {\n",
       "        vertical-align: top;\n",
       "    }\n",
       "\n",
       "    .dataframe thead th {\n",
       "        text-align: right;\n",
       "    }\n",
       "</style>\n",
       "<table border=\"1\" class=\"dataframe\">\n",
       "  <thead>\n",
       "    <tr style=\"text-align: right;\">\n",
       "      <th></th>\n",
       "      <th>Image</th>\n",
       "      <th>Class</th>\n",
       "      <th>pathes</th>\n",
       "    </tr>\n",
       "  </thead>\n",
       "  <tbody>\n",
       "    <tr>\n",
       "      <th>0</th>\n",
       "      <td>Image1</td>\n",
       "      <td>0</td>\n",
       "      <td>C:/Users/Surya/Desktop/Lab Programs/NNDL/New f...</td>\n",
       "    </tr>\n",
       "    <tr>\n",
       "      <th>1</th>\n",
       "      <td>Image2</td>\n",
       "      <td>0</td>\n",
       "      <td>C:/Users/Surya/Desktop/Lab Programs/NNDL/New f...</td>\n",
       "    </tr>\n",
       "    <tr>\n",
       "      <th>2</th>\n",
       "      <td>Image3</td>\n",
       "      <td>1</td>\n",
       "      <td>C:/Users/Surya/Desktop/Lab Programs/NNDL/New f...</td>\n",
       "    </tr>\n",
       "    <tr>\n",
       "      <th>3</th>\n",
       "      <td>Image4</td>\n",
       "      <td>1</td>\n",
       "      <td>C:/Users/Surya/Desktop/Lab Programs/NNDL/New f...</td>\n",
       "    </tr>\n",
       "    <tr>\n",
       "      <th>4</th>\n",
       "      <td>Image5</td>\n",
       "      <td>0</td>\n",
       "      <td>C:/Users/Surya/Desktop/Lab Programs/NNDL/New f...</td>\n",
       "    </tr>\n",
       "  </tbody>\n",
       "</table>\n",
       "</div>"
      ],
      "text/plain": [
       "    Image  Class                                             pathes\n",
       "0  Image1      0  C:/Users/Surya/Desktop/Lab Programs/NNDL/New f...\n",
       "1  Image2      0  C:/Users/Surya/Desktop/Lab Programs/NNDL/New f...\n",
       "2  Image3      1  C:/Users/Surya/Desktop/Lab Programs/NNDL/New f...\n",
       "3  Image4      1  C:/Users/Surya/Desktop/Lab Programs/NNDL/New f...\n",
       "4  Image5      0  C:/Users/Surya/Desktop/Lab Programs/NNDL/New f..."
      ]
     },
     "execution_count": 9,
     "metadata": {},
     "output_type": "execute_result"
    }
   ],
   "source": [
    "brain_df.head()"
   ]
  },
  {
   "cell_type": "markdown",
   "metadata": {},
   "source": [
    "## plotting some samples from the dataset"
   ]
  },
  {
   "cell_type": "code",
   "execution_count": 10,
   "metadata": {},
   "outputs": [
    {
     "data": {
      "image/png": "[encoded data removed]",
      "text/plain": [
       "<Figure size 432x288 with 9 Axes>"
      ]
     },
     "metadata": {
      "needs_background": "light"
     },
     "output_type": "display_data"
    }
   ],
   "source": [
    "\n",
    "for x in range (0 ,9):\n",
    "    img = imread(brain_df['pathes'][x])\n",
    "    plt.imshow(img)\n",
    "    plt.subplot(3,3,x+1)"
   ]
  },
  {
   "cell_type": "code",
   "execution_count": 11,
   "metadata": {},
   "outputs": [],
   "source": [
    "from PIL.Image import open\n",
    "brain_df['pixels']=brain_df['pathes'].map(lambda x:np.asarray(open(x).resize((224,224))))\n"
   ]
  },
  {
   "cell_type": "code",
   "execution_count": 12,
   "metadata": {},
   "outputs": [
    {
     "data": {
      "text/html": [
       "<div>\n",
       "<style scoped>\n",
       "    .dataframe tbody tr th:only-of-type {\n",
       "        vertical-align: middle;\n",
       "    }\n",
       "\n",
       "    .dataframe tbody tr th {\n",
       "        vertical-align: top;\n",
       "    }\n",
       "\n",
       "    .dataframe thead th {\n",
       "        text-align: right;\n",
       "    }\n",
       "</style>\n",
       "<table border=\"1\" class=\"dataframe\">\n",
       "  <thead>\n",
       "    <tr style=\"text-align: right;\">\n",
       "      <th></th>\n",
       "      <th>Image</th>\n",
       "      <th>Class</th>\n",
       "      <th>pathes</th>\n",
       "      <th>pixels</th>\n",
       "    </tr>\n",
       "  </thead>\n",
       "  <tbody>\n",
       "    <tr>\n",
       "      <th>0</th>\n",
       "      <td>Image1</td>\n",
       "      <td>0</td>\n",
       "      <td>C:/Users/Surya/Desktop/Lab Programs/NNDL/New f...</td>\n",
       "      <td>[[[0, 0, 0], [0, 0, 0], [0, 0, 0], [0, 0, 0], ...</td>\n",
       "    </tr>\n",
       "    <tr>\n",
       "      <th>1</th>\n",
       "      <td>Image2</td>\n",
       "      <td>0</td>\n",
       "      <td>C:/Users/Surya/Desktop/Lab Programs/NNDL/New f...</td>\n",
       "      <td>[[[0, 0, 0], [0, 0, 0], [0, 0, 0], [0, 0, 0], ...</td>\n",
       "    </tr>\n",
       "    <tr>\n",
       "      <th>2</th>\n",
       "      <td>Image3</td>\n",
       "      <td>1</td>\n",
       "      <td>C:/Users/Surya/Desktop/Lab Programs/NNDL/New f...</td>\n",
       "      <td>[[[0, 0, 0], [0, 0, 0], [0, 0, 0], [0, 0, 0], ...</td>\n",
       "    </tr>\n",
       "    <tr>\n",
       "      <th>3</th>\n",
       "      <td>Image4</td>\n",
       "      <td>1</td>\n",
       "      <td>C:/Users/Surya/Desktop/Lab Programs/NNDL/New f...</td>\n",
       "      <td>[[[0, 0, 0], [0, 0, 0], [0, 0, 0], [0, 0, 0], ...</td>\n",
       "    </tr>\n",
       "    <tr>\n",
       "      <th>4</th>\n",
       "      <td>Image5</td>\n",
       "      <td>0</td>\n",
       "      <td>C:/Users/Surya/Desktop/Lab Programs/NNDL/New f...</td>\n",
       "      <td>[[[0, 0, 0], [0, 0, 0], [0, 0, 0], [0, 0, 0], ...</td>\n",
       "    </tr>\n",
       "  </tbody>\n",
       "</table>\n",
       "</div>"
      ],
      "text/plain": [
       "    Image  Class                                             pathes  \\\n",
       "0  Image1      0  C:/Users/Surya/Desktop/Lab Programs/NNDL/New f...   \n",
       "1  Image2      0  C:/Users/Surya/Desktop/Lab Programs/NNDL/New f...   \n",
       "2  Image3      1  C:/Users/Surya/Desktop/Lab Programs/NNDL/New f...   \n",
       "3  Image4      1  C:/Users/Surya/Desktop/Lab Programs/NNDL/New f...   \n",
       "4  Image5      0  C:/Users/Surya/Desktop/Lab Programs/NNDL/New f...   \n",
       "\n",
       "                                              pixels  \n",
       "0  [[[0, 0, 0], [0, 0, 0], [0, 0, 0], [0, 0, 0], ...  \n",
       "1  [[[0, 0, 0], [0, 0, 0], [0, 0, 0], [0, 0, 0], ...  \n",
       "2  [[[0, 0, 0], [0, 0, 0], [0, 0, 0], [0, 0, 0], ...  \n",
       "3  [[[0, 0, 0], [0, 0, 0], [0, 0, 0], [0, 0, 0], ...  \n",
       "4  [[[0, 0, 0], [0, 0, 0], [0, 0, 0], [0, 0, 0], ...  "
      ]
     },
     "execution_count": 12,
     "metadata": {},
     "output_type": "execute_result"
    }
   ],
   "source": [
    "brain_df.head()"
   ]
  },
  {
   "cell_type": "markdown",
   "metadata": {},
   "source": [
    "## preprocessing our dataset before using MobileNet"
   ]
  },
  {
   "cell_type": "code",
   "execution_count": 13,
   "metadata": {},
   "outputs": [
    {
     "name": "stdout",
     "output_type": "stream",
     "text": [
      "(3762, 224, 224, 3)\n"
     ]
    }
   ],
   "source": [
    "image_list = []\n",
    "for i in range(0,len(brain_df)):\n",
    "    # load image\n",
    "    brain_img = brain_df['pixels'][i].astype(np.float32)\n",
    "    \n",
    "    img_array = image.img_to_array(brain_img)\n",
    "     # append to list of all images\n",
    "    image_list.append(keras.applications.mobilenet_v2.preprocess_input(img_array))\n",
    "    \n",
    "# convert image list to single array\n",
    "# Our feature\n",
    "X = np.array(image_list)\n",
    "\n",
    "# print shape of X\n",
    "print(X.shape)"
   ]
  },
  {
   "cell_type": "code",
   "execution_count": 14,
   "metadata": {},
   "outputs": [],
   "source": [
    "# get the class label as np.array\n",
    "y = np.array(brain_df.Class)"
   ]
  },
  {
   "cell_type": "code",
   "execution_count": 15,
   "metadata": {},
   "outputs": [
    {
     "data": {
      "text/plain": [
       "array([0, 0, 1, ..., 0, 0, 0], dtype=int64)"
      ]
     },
     "execution_count": 15,
     "metadata": {},
     "output_type": "execute_result"
    }
   ],
   "source": [
    "y"
   ]
  },
  {
   "cell_type": "markdown",
   "metadata": {},
   "source": [
    "## Splitting the dataset to training set(80%) and testing set (20%)"
   ]
  },
  {
   "cell_type": "code",
   "execution_count": 16,
   "metadata": {},
   "outputs": [
    {
     "name": "stdout",
     "output_type": "stream",
     "text": [
      "The shape of the X_train : (3009, 224, 224, 3)\n",
      "The size of the X_train : 3009\n",
      "The shape of the X_test : (753, 224, 224, 3)\n",
      "The size of the X_test: 753\n"
     ]
    }
   ],
   "source": [
    "X_train,X_test,y_train,y_test = train_test_split(X,y\n",
    "                                                 ,test_size=0.2\n",
    "                                                ,random_state=0)\n",
    "\n",
    "\n",
    "print('The shape of the X_train :'+' '+str(X_train.shape))\n",
    "print('The size of the X_train :'+' '+str(X_train.shape[0]))\n",
    "print('The shape of the X_test :'+' '+str(X_test.shape))\n",
    "print('The size of the X_test:'+' '+str(X_test.shape[0]))"
   ]
  },
  {
   "cell_type": "markdown",
   "metadata": {},
   "source": [
    "## Build model(MobileNet)"
   ]
  },
  {
   "cell_type": "code",
   "execution_count": 17,
   "metadata": {},
   "outputs": [
    {
     "name": "stdout",
     "output_type": "stream",
     "text": [
      "Model: \"sequential\"\n",
      "_________________________________________________________________\n",
      " Layer (type)                Output Shape              Param #   \n",
      "=================================================================\n",
      " mobilenetv2_1.00_224 (Funct  (None, 7, 7, 1280)       2257984   \n",
      " ional)                                                          \n",
      "                                                                 \n",
      " global_average_pooling2d (G  (None, 1280)             0         \n",
      " lobalAveragePooling2D)                                          \n",
      "                                                                 \n",
      " preds (Dense)               (None, 1)                 1281      \n",
      "                                                                 \n",
      "=================================================================\n",
      "Total params: 2,259,265\n",
      "Trainable params: 1,281\n",
      "Non-trainable params: 2,257,984\n",
      "_________________________________________________________________\n"
     ]
    }
   ],
   "source": [
    "num_classes = 1\n",
    "model = Sequential()\n",
    "model.add(MobileNetV2(input_shape=(224, 224, 3),weights=\"imagenet\"\n",
    "                             ,include_top=False))\n",
    "model.add(keras.layers.GlobalAveragePooling2D())\n",
    "model.add( Dense(num_classes, activation='sigmoid',name='preds'))\n",
    "model.layers[0].trainable= False\n",
    "# show model summary\n",
    "model.summary()\n"
   ]
  },
  {
   "cell_type": "code",
   "execution_count": 18,
   "metadata": {},
   "outputs": [
    {
     "name": "stdout",
     "output_type": "stream",
     "text": [
      "Epoch 1/10\n"
     ]
    },
    {
     "name": "stderr",
     "output_type": "stream",
     "text": [
      "C:\\Users\\Surya\\anaconda3\\lib\\site-packages\\keras\\optimizers\\optimizer_v2\\gradient_descent.py:114: UserWarning: The `lr` argument is deprecated, use `learning_rate` instead.\n",
      "  super().__init__(name, **kwargs)\n"
     ]
    },
    {
     "name": "stdout",
     "output_type": "stream",
     "text": [
      "95/95 [==============================] - 52s 518ms/step - loss: 0.6278 - accuracy: 0.6517 - val_loss: 0.5755 - val_accuracy: 0.7092\n",
      "Epoch 2/10\n",
      "95/95 [==============================] - 48s 511ms/step - loss: 0.5221 - accuracy: 0.7620 - val_loss: 0.5126 - val_accuracy: 0.7530\n",
      "Epoch 3/10\n",
      "95/95 [==============================] - 48s 512ms/step - loss: 0.4731 - accuracy: 0.7940 - val_loss: 0.4834 - val_accuracy: 0.7689\n",
      "Epoch 4/10\n",
      "95/95 [==============================] - 49s 519ms/step - loss: 0.4416 - accuracy: 0.8136 - val_loss: 0.4619 - val_accuracy: 0.7822\n",
      "Epoch 5/10\n",
      "95/95 [==============================] - 49s 517ms/step - loss: 0.4196 - accuracy: 0.8272 - val_loss: 0.4333 - val_accuracy: 0.8061\n",
      "Epoch 6/10\n",
      "95/95 [==============================] - 48s 511ms/step - loss: 0.4021 - accuracy: 0.8382 - val_loss: 0.4185 - val_accuracy: 0.8247\n",
      "Epoch 7/10\n",
      "95/95 [==============================] - 48s 511ms/step - loss: 0.3880 - accuracy: 0.8471 - val_loss: 0.4086 - val_accuracy: 0.8327\n",
      "Epoch 8/10\n",
      "95/95 [==============================] - 49s 513ms/step - loss: 0.3760 - accuracy: 0.8511 - val_loss: 0.4037 - val_accuracy: 0.8127\n",
      "Epoch 9/10\n",
      "95/95 [==============================] - 49s 513ms/step - loss: 0.3666 - accuracy: 0.8561 - val_loss: 0.3901 - val_accuracy: 0.8340\n",
      "Epoch 10/10\n",
      "95/95 [==============================] - 48s 512ms/step - loss: 0.3569 - accuracy: 0.8608 - val_loss: 0.3846 - val_accuracy: 0.8207\n",
      "Saved model to disk\n"
     ]
    }
   ],
   "source": [
    "model.compile(\n",
    "    # set the loss as binary_crossentropy\n",
    "    loss=keras.losses.binary_crossentropy,\n",
    "    # set the optimizer as stochastic gradient descent\n",
    "    optimizer=keras.optimizers.SGD(lr=0.001),\n",
    "    # set the metric as accuracy\n",
    "    metrics=['accuracy']\n",
    ")\n",
    "\n",
    "\n",
    "# mock-train the model \n",
    "model.fit(\n",
    "    X_train[:,:,:,:],\n",
    "    y_train[:],\n",
    "    epochs=10,\n",
    "    verbose=1,\n",
    "    validation_data=(X_test[:,:,:,:], y_test[:])\n",
    ")\n",
    "model.save(\"model_brain.h5\")\n",
    "print(\"Saved model to disk\")"
   ]
  },
  {
   "cell_type": "code",
   "execution_count": 19,
   "metadata": {},
   "outputs": [
    {
     "name": "stdout",
     "output_type": "stream",
     "text": [
      "24/24 [==============================] - 11s 404ms/step - loss: 0.3846 - accuracy: 0.8207\n",
      "Eval loss: 0.3845788836479187\n",
      "Eval accuracy: 0.8207171559333801\n"
     ]
    }
   ],
   "source": [
    "pretrained_cnn = keras.models.load_model('./model_brain.h5')\n",
    "\n",
    "# evaluate model on holdout set\n",
    "eval_score = pretrained_cnn.evaluate(X_test,y_test)\n",
    "# print loss score\n",
    "print('Eval loss:',eval_score[0])\n",
    "# print accuracy score\n",
    "print('Eval accuracy:',eval_score[1] )"
   ]
  },
  {
   "cell_type": "code",
   "execution_count": 29,
   "metadata": {},
   "outputs": [
    {
     "name": "stdout",
     "output_type": "stream",
     "text": [
      "24/24 [==============================] - 10s 411ms/step\n"
     ]
    }
   ],
   "source": [
    "y_pred = pretrained_cnn.predict(X_test)\n",
    "for i in range(len(y_pred)):\n",
    "    if y_pred[i]<0.5:\n",
    "        y_pred[i]=0\n",
    "    else:\n",
    "        y_pred[i]=1"
   ]
  },
  {
   "cell_type": "code",
   "execution_count": 30,
   "metadata": {},
   "outputs": [
    {
     "data": {
      "text/plain": [
       "{0: {'precision': 0.8571428571428571,\n",
       "  'recall': 0.795,\n",
       "  'f1-score': 0.8249027237354085,\n",
       "  'support': 400},\n",
       " 1: {'precision': 0.7853403141361257,\n",
       "  'recall': 0.8498583569405099,\n",
       "  'f1-score': 0.816326530612245,\n",
       "  'support': 353},\n",
       " 'accuracy': 0.8207171314741036,\n",
       " 'macro avg': {'precision': 0.8212415856394915,\n",
       "  'recall': 0.822429178470255,\n",
       "  'f1-score': 0.8206146271738268,\n",
       "  'support': 753},\n",
       " 'weighted avg': {'precision': 0.8234824352552392,\n",
       "  'recall': 0.8207171314741036,\n",
       "  'f1-score': 0.8208822772912162,\n",
       "  'support': 753}}"
      ]
     },
     "execution_count": 30,
     "metadata": {},
     "output_type": "execute_result"
    }
   ],
   "source": [
    "from sklearn.metrics import confusion_matrix , classification_report\n",
    "target_classes = ['No Tumor','Tumor']\n",
    "target_classes = [0,1]\n",
    "\n",
    "classification_report(y_test , y_pred , output_dict = True\n",
    "                      , target_names=target_classes)"
   ]
  },
  {
   "cell_type": "markdown",
   "metadata": {},
   "source": [
    "### There is only 81 images out of 753 testing images are misclassified "
   ]
  },
  {
   "cell_type": "code",
   "execution_count": 31,
   "metadata": {},
   "outputs": [
    {
     "data": {
      "text/plain": [
       "array([[318,  82],\n",
       "       [ 53, 300]], dtype=int64)"
      ]
     },
     "execution_count": 31,
     "metadata": {},
     "output_type": "execute_result"
    }
   ],
   "source": [
    "confusion_matrix(y_test , y_pred ) "
   ]
  },
  {
   "cell_type": "code",
   "execution_count": null,
   "metadata": {},
   "outputs": [],
   "source": []
  }
 ],
 "metadata": {
  "kernelspec": {
   "display_name": "Python 3 (ipykernel)",
   "language": "python",
   "name": "python3"
  },
  "language_info": {
   "codemirror_mode": {
    "name": "ipython",
    "version": 3
   },
   "file_extension": ".py",
   "mimetype": "text/x-python",
   "name": "python",
   "nbconvert_exporter": "python",
   "pygments_lexer": "ipython3",
   "version": "3.9.12"
  }
 },
 "nbformat": 4,
 "nbformat_minor": 4
}
