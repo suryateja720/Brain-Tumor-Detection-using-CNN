{
 "cells": [
  {
   "cell_type": "code",
   "execution_count": 1,
   "metadata": {
    "_cell_guid": "b1076dfc-b9ad-4769-8c92-a6c4dae69d19",
    "_uuid": "8f2839f25d086af736a60e9eeb907d3b93b6e0e5"
   },
   "outputs": [],
   "source": [
    "import numpy as np\n",
    "import pandas as pd\n",
    "import os\n",
    "import matplotlib.pyplot as plt\n",
    "import seaborn as sns\n",
    "from skimage.io import imread\n",
    "from sklearn.model_selection import train_test_split\n",
    "import keras\n",
    "from keras import Sequential\n",
    "from keras.applications import MobileNetV2\n",
    "from keras.layers import Dense\n",
    "from tensorflow.keras.preprocessing import image"
   ]
  },
  {
   "cell_type": "code",
   "execution_count": 2,
   "metadata": {},
   "outputs": [
    {
     "data": {
      "text/html": [
       "<div>\n",
       "<style scoped>\n",
       "    .dataframe tbody tr th:only-of-type {\n",
       "        vertical-align: middle;\n",
       "    }\n",
       "\n",
       "    .dataframe tbody tr th {\n",
       "        vertical-align: top;\n",
       "    }\n",
       "\n",
       "    .dataframe thead th {\n",
       "        text-align: right;\n",
       "    }\n",
       "</style>\n",
       "<table border=\"1\" class=\"dataframe\">\n",
       "  <thead>\n",
       "    <tr style=\"text-align: right;\">\n",
       "      <th></th>\n",
       "      <th>Image</th>\n",
       "      <th>Class</th>\n",
       "    </tr>\n",
       "  </thead>\n",
       "  <tbody>\n",
       "    <tr>\n",
       "      <th>0</th>\n",
       "      <td>Image1</td>\n",
       "      <td>0</td>\n",
       "    </tr>\n",
       "    <tr>\n",
       "      <th>1</th>\n",
       "      <td>Image2</td>\n",
       "      <td>0</td>\n",
       "    </tr>\n",
       "    <tr>\n",
       "      <th>2</th>\n",
       "      <td>Image3</td>\n",
       "      <td>1</td>\n",
       "    </tr>\n",
       "    <tr>\n",
       "      <th>3</th>\n",
       "      <td>Image4</td>\n",
       "      <td>1</td>\n",
       "    </tr>\n",
       "    <tr>\n",
       "      <th>4</th>\n",
       "      <td>Image5</td>\n",
       "      <td>0</td>\n",
       "    </tr>\n",
       "  </tbody>\n",
       "</table>\n",
       "</div>"
      ],
      "text/plain": [
       "    Image  Class\n",
       "0  Image1      0\n",
       "1  Image2      0\n",
       "2  Image3      1\n",
       "3  Image4      1\n",
       "4  Image5      0"
      ]
     },
     "execution_count": 2,
     "metadata": {},
     "output_type": "execute_result"
    }
   ],
   "source": [
    "df = pd.read_csv('Brain Tumor.csv',usecols=[0,1])\n",
    "df.head()"
   ]
  },
  {
   "cell_type": "code",
   "execution_count": 3,
   "metadata": {},
   "outputs": [
    {
     "data": {
      "text/plain": [
       "Image    0\n",
       "Class    0\n",
       "dtype: int64"
      ]
     },
     "execution_count": 3,
     "metadata": {},
     "output_type": "execute_result"
    }
   ],
   "source": [
    "# checking for null values\n",
    "df.isna().sum()"
   ]
  },
  {
   "cell_type": "code",
   "execution_count": 4,
   "metadata": {},
   "outputs": [
    {
     "name": "stderr",
     "output_type": "stream",
     "text": [
      "C:\\Users\\Surya\\anaconda3\\lib\\site-packages\\seaborn\\_decorators.py:36: FutureWarning: Pass the following variable as a keyword arg: x. From version 0.12, the only valid positional argument will be `data`, and passing other arguments without an explicit keyword will result in an error or misinterpretation.\n",
      "  warnings.warn(\n"
     ]
    },
    {
     "data": {
      "text/plain": [
       "0    2079\n",
       "1    1683\n",
       "Name: Class, dtype: int64"
      ]
     },
     "execution_count": 4,
     "metadata": {},
     "output_type": "execute_result"
    },
    {
     "data": {
      "image/png": "[encoded data removed]",
      "text/plain": [
       "<Figure size 432x288 with 1 Axes>"
      ]
     },
     "metadata": {
      "needs_background": "light"
     },
     "output_type": "display_data"
    }
   ],
   "source": [
    "# plot the value count\n",
    "sns.countplot(df['Class'])\n",
    "\n",
    "# checking imbalanceness of data\n",
    "df['Class'].value_counts()"
   ]
  },
  {
   "cell_type": "code",
   "execution_count": 5,
   "metadata": {},
   "outputs": [
    {
     "data": {
      "text/html": [
       "<div>\n",
       "<style scoped>\n",
       "    .dataframe tbody tr th:only-of-type {\n",
       "        vertical-align: middle;\n",
       "    }\n",
       "\n",
       "    .dataframe tbody tr th {\n",
       "        vertical-align: top;\n",
       "    }\n",
       "\n",
       "    .dataframe thead th {\n",
       "        text-align: right;\n",
       "    }\n",
       "</style>\n",
       "<table border=\"1\" class=\"dataframe\">\n",
       "  <thead>\n",
       "    <tr style=\"text-align: right;\">\n",
       "      <th></th>\n",
       "      <th>Image</th>\n",
       "      <th>Class</th>\n",
       "      <th>pathes</th>\n",
       "    </tr>\n",
       "  </thead>\n",
       "  <tbody>\n",
       "    <tr>\n",
       "      <th>0</th>\n",
       "      <td>Image1</td>\n",
       "      <td>0</td>\n",
       "      <td>Brain Tumor\\Image1.jpg</td>\n",
       "    </tr>\n",
       "    <tr>\n",
       "      <th>1</th>\n",
       "      <td>Image2</td>\n",
       "      <td>0</td>\n",
       "      <td>Brain Tumor\\Image2.jpg</td>\n",
       "    </tr>\n",
       "    <tr>\n",
       "      <th>2</th>\n",
       "      <td>Image3</td>\n",
       "      <td>1</td>\n",
       "      <td>Brain Tumor\\Image3.jpg</td>\n",
       "    </tr>\n",
       "    <tr>\n",
       "      <th>3</th>\n",
       "      <td>Image4</td>\n",
       "      <td>1</td>\n",
       "      <td>Brain Tumor\\Image4.jpg</td>\n",
       "    </tr>\n",
       "    <tr>\n",
       "      <th>4</th>\n",
       "      <td>Image5</td>\n",
       "      <td>0</td>\n",
       "      <td>Brain Tumor\\Image5.jpg</td>\n",
       "    </tr>\n",
       "  </tbody>\n",
       "</table>\n",
       "</div>"
      ],
      "text/plain": [
       "    Image  Class                  pathes\n",
       "0  Image1      0  Brain Tumor\\Image1.jpg\n",
       "1  Image2      0  Brain Tumor\\Image2.jpg\n",
       "2  Image3      1  Brain Tumor\\Image3.jpg\n",
       "3  Image4      1  Brain Tumor\\Image4.jpg\n",
       "4  Image5      0  Brain Tumor\\Image5.jpg"
      ]
     },
     "execution_count": 5,
     "metadata": {},
     "output_type": "execute_result"
    }
   ],
   "source": [
    "path_list = []\n",
    "base_path = 'Brain Tumor'\n",
    "for entry in os.listdir(base_path):\n",
    "    path_list.append( os.path.join(base_path,entry))\n",
    "    \n",
    "#create path dictonary and then map itto df['pathes']\n",
    "pathes_dict={os.path.splitext(os.path.basename(x))[0]: x for x in path_list}\n",
    "df['pathes'] = df['Image'].map(pathes_dict.get)\n",
    "\n",
    "df.head()"
   ]
  },
  {
   "cell_type": "code",
   "execution_count": 6,
   "metadata": {},
   "outputs": [
    {
     "data": {
      "image/png": "[encoded data removed]",
      "text/plain": [
       "<Figure size 432x288 with 15 Axes>"
      ]
     },
     "metadata": {
      "needs_background": "light"
     },
     "output_type": "display_data"
    }
   ],
   "source": [
    "for x in range (0 ,15):\n",
    "    img = imread(df['pathes'][x])\n",
    "    plt.imshow(img)\n",
    "    plt.subplot(3,5,x+1)"
   ]
  },
  {
   "cell_type": "code",
   "execution_count": 7,
   "metadata": {},
   "outputs": [
    {
     "data": {
      "text/html": [
       "<div>\n",
       "<style scoped>\n",
       "    .dataframe tbody tr th:only-of-type {\n",
       "        vertical-align: middle;\n",
       "    }\n",
       "\n",
       "    .dataframe tbody tr th {\n",
       "        vertical-align: top;\n",
       "    }\n",
       "\n",
       "    .dataframe thead th {\n",
       "        text-align: right;\n",
       "    }\n",
       "</style>\n",
       "<table border=\"1\" class=\"dataframe\">\n",
       "  <thead>\n",
       "    <tr style=\"text-align: right;\">\n",
       "      <th></th>\n",
       "      <th>Image</th>\n",
       "      <th>Class</th>\n",
       "      <th>pathes</th>\n",
       "      <th>pixels</th>\n",
       "    </tr>\n",
       "  </thead>\n",
       "  <tbody>\n",
       "    <tr>\n",
       "      <th>0</th>\n",
       "      <td>Image1</td>\n",
       "      <td>0</td>\n",
       "      <td>Brain Tumor\\Image1.jpg</td>\n",
       "      <td>[[[0, 0, 0], [0, 0, 0], [0, 0, 0], [0, 0, 0], ...</td>\n",
       "    </tr>\n",
       "    <tr>\n",
       "      <th>1</th>\n",
       "      <td>Image2</td>\n",
       "      <td>0</td>\n",
       "      <td>Brain Tumor\\Image2.jpg</td>\n",
       "      <td>[[[0, 0, 0], [0, 0, 0], [0, 0, 0], [0, 0, 0], ...</td>\n",
       "    </tr>\n",
       "    <tr>\n",
       "      <th>2</th>\n",
       "      <td>Image3</td>\n",
       "      <td>1</td>\n",
       "      <td>Brain Tumor\\Image3.jpg</td>\n",
       "      <td>[[[0, 0, 0], [0, 0, 0], [0, 0, 0], [0, 0, 0], ...</td>\n",
       "    </tr>\n",
       "    <tr>\n",
       "      <th>3</th>\n",
       "      <td>Image4</td>\n",
       "      <td>1</td>\n",
       "      <td>Brain Tumor\\Image4.jpg</td>\n",
       "      <td>[[[0, 0, 0], [0, 0, 0], [0, 0, 0], [0, 0, 0], ...</td>\n",
       "    </tr>\n",
       "    <tr>\n",
       "      <th>4</th>\n",
       "      <td>Image5</td>\n",
       "      <td>0</td>\n",
       "      <td>Brain Tumor\\Image5.jpg</td>\n",
       "      <td>[[[0, 0, 0], [0, 0, 0], [0, 0, 0], [0, 0, 0], ...</td>\n",
       "    </tr>\n",
       "  </tbody>\n",
       "</table>\n",
       "</div>"
      ],
      "text/plain": [
       "    Image  Class                  pathes  \\\n",
       "0  Image1      0  Brain Tumor\\Image1.jpg   \n",
       "1  Image2      0  Brain Tumor\\Image2.jpg   \n",
       "2  Image3      1  Brain Tumor\\Image3.jpg   \n",
       "3  Image4      1  Brain Tumor\\Image4.jpg   \n",
       "4  Image5      0  Brain Tumor\\Image5.jpg   \n",
       "\n",
       "                                              pixels  \n",
       "0  [[[0, 0, 0], [0, 0, 0], [0, 0, 0], [0, 0, 0], ...  \n",
       "1  [[[0, 0, 0], [0, 0, 0], [0, 0, 0], [0, 0, 0], ...  \n",
       "2  [[[0, 0, 0], [0, 0, 0], [0, 0, 0], [0, 0, 0], ...  \n",
       "3  [[[0, 0, 0], [0, 0, 0], [0, 0, 0], [0, 0, 0], ...  \n",
       "4  [[[0, 0, 0], [0, 0, 0], [0, 0, 0], [0, 0, 0], ...  "
      ]
     },
     "execution_count": 7,
     "metadata": {},
     "output_type": "execute_result"
    }
   ],
   "source": [
    "from PIL.Image import open\n",
    "\n",
    "# resizing the image data to 224 x 224\n",
    "df['pixels']=df['pathes'].map(lambda x:np.asarray(open(x).resize((224,224))))\n",
    "df.head()"
   ]
  },
  {
   "cell_type": "markdown",
   "metadata": {},
   "source": [
    "## preprocessing our dataset before using MobileNet"
   ]
  },
  {
   "cell_type": "code",
   "execution_count": 8,
   "metadata": {},
   "outputs": [
    {
     "name": "stdout",
     "output_type": "stream",
     "text": [
      "(3762, 224, 224, 3) (3762,)\n"
     ]
    }
   ],
   "source": [
    "image_list = []\n",
    "for i in range(0,len(df)):\n",
    "    # load image\n",
    "    brain_img = df['pixels'][i].astype(np.float32)\n",
    "    \n",
    "    img_array = image.img_to_array(brain_img)\n",
    "    # append to list of all images\n",
    "    image_list.append(keras.applications.mobilenet_v2.preprocess_input(img_array))\n",
    "    \n",
    "# convert image list to single array\n",
    "X = np.array(image_list)\n",
    "y = np.array(df.Class)\n",
    "print(X.shape,y.shape)"
   ]
  },
  {
   "cell_type": "code",
   "execution_count": 9,
   "metadata": {},
   "outputs": [
    {
     "name": "stdout",
     "output_type": "stream",
     "text": [
      "(3009, 224, 224, 3) 3009 (753, 224, 224, 3) 753\n"
     ]
    }
   ],
   "source": [
    "# Splitting the dataset to training set(80%) and testing set (20%)\n",
    "X_train,X_test,y_train,y_test = train_test_split(X,y\n",
    "                                                 ,test_size=0.2\n",
    "                                                ,random_state=0)\n",
    "print(X_train.shape,X_train.shape[0],X_test.shape,X_test.shape[0])"
   ]
  },
  {
   "cell_type": "markdown",
   "metadata": {},
   "source": [
    "## Build model(MobileNet)"
   ]
  },
  {
   "cell_type": "code",
   "execution_count": 10,
   "metadata": {},
   "outputs": [
    {
     "name": "stdout",
     "output_type": "stream",
     "text": [
      "Model: \"sequential\"\n",
      "_________________________________________________________________\n",
      " Layer (type)                Output Shape              Param #   \n",
      "=================================================================\n",
      " mobilenetv2_1.00_224 (Funct  (None, 7, 7, 1280)       2257984   \n",
      " ional)                                                          \n",
      "                                                                 \n",
      " global_average_pooling2d (G  (None, 1280)             0         \n",
      " lobalAveragePooling2D)                                          \n",
      "                                                                 \n",
      " preds (Dense)               (None, 1)                 1281      \n",
      "                                                                 \n",
      "=================================================================\n",
      "Total params: 2,259,265\n",
      "Trainable params: 1,281\n",
      "Non-trainable params: 2,257,984\n",
      "_________________________________________________________________\n"
     ]
    }
   ],
   "source": [
    "num_classes = 1\n",
    "model = Sequential()\n",
    "model.add(MobileNetV2(input_shape=(224, 224, 3),\n",
    "                      weights=\"imagenet\",\n",
    "                      include_top=False))\n",
    "model.add(keras.layers.GlobalAveragePooling2D())\n",
    "model.add( Dense(num_classes,\n",
    "                 activation='sigmoid',\n",
    "                 name='preds'))\n",
    "model.layers[0].trainable= False\n",
    "model.summary()"
   ]
  },
  {
   "cell_type": "code",
   "execution_count": 11,
   "metadata": {},
   "outputs": [
    {
     "name": "stderr",
     "output_type": "stream",
     "text": [
      "C:\\Users\\Surya\\anaconda3\\lib\\site-packages\\keras\\optimizers\\optimizer_v2\\gradient_descent.py:114: UserWarning: The `lr` argument is deprecated, use `learning_rate` instead.\n",
      "  super().__init__(name, **kwargs)\n"
     ]
    },
    {
     "name": "stdout",
     "output_type": "stream",
     "text": [
      "Epoch 1/10\n",
      "95/95 [==============================] - 56s 551ms/step - loss: 0.6532 - accuracy: 0.6268 - val_loss: 0.5649 - val_accuracy: 0.7371\n",
      "Epoch 2/10\n",
      "95/95 [==============================] - 50s 530ms/step - loss: 0.5286 - accuracy: 0.7620 - val_loss: 0.5056 - val_accuracy: 0.7663\n",
      "Epoch 3/10\n",
      "95/95 [==============================] - 50s 529ms/step - loss: 0.4778 - accuracy: 0.7973 - val_loss: 0.4700 - val_accuracy: 0.7902\n",
      "Epoch 4/10\n",
      "95/95 [==============================] - 52s 543ms/step - loss: 0.4485 - accuracy: 0.8116 - val_loss: 0.4457 - val_accuracy: 0.8088\n",
      "Epoch 5/10\n",
      "95/95 [==============================] - 50s 531ms/step - loss: 0.4270 - accuracy: 0.8169 - val_loss: 0.4306 - val_accuracy: 0.8048\n",
      "Epoch 6/10\n",
      "95/95 [==============================] - 55s 575ms/step - loss: 0.4109 - accuracy: 0.8252 - val_loss: 0.4289 - val_accuracy: 0.8127\n",
      "Epoch 7/10\n",
      "95/95 [==============================] - 52s 547ms/step - loss: 0.3968 - accuracy: 0.8312 - val_loss: 0.4356 - val_accuracy: 0.8048\n",
      "Epoch 8/10\n",
      "95/95 [==============================] - 53s 562ms/step - loss: 0.3864 - accuracy: 0.8398 - val_loss: 0.4028 - val_accuracy: 0.8194\n",
      "Epoch 9/10\n",
      "95/95 [==============================] - 54s 565ms/step - loss: 0.3751 - accuracy: 0.8428 - val_loss: 0.3926 - val_accuracy: 0.8274\n",
      "Epoch 10/10\n",
      "95/95 [==============================] - 51s 542ms/step - loss: 0.3665 - accuracy: 0.8498 - val_loss: 0.4000 - val_accuracy: 0.8287\n"
     ]
    }
   ],
   "source": [
    "# set the loss as binary_crossentropy\n",
    "# set the optimizer as stochastic gradient descent\n",
    "# set the metric as accuracy\n",
    "model.compile(\n",
    "    loss=keras.losses.binary_crossentropy,\n",
    "    optimizer=keras.optimizers.SGD(lr=0.001),\n",
    "    metrics=['accuracy'])\n",
    "\n",
    "model.fit(\n",
    "    X_train[:,:,:,:],\n",
    "    y_train[:],\n",
    "    epochs=10,\n",
    "    verbose=1,\n",
    "    validation_data=(X_test[:,:,:,:], y_test[:])\n",
    ")\n",
    "\n",
    "model.save(\"model_brain.h5\")"
   ]
  },
  {
   "cell_type": "code",
   "execution_count": 12,
   "metadata": {},
   "outputs": [
    {
     "name": "stdout",
     "output_type": "stream",
     "text": [
      "24/24 [==============================] - 11s 431ms/step - loss: 0.4000 - accuracy: 0.8287\n",
      "Loss: 0.4\n",
      "Accuracy: 82.87 %\n"
     ]
    }
   ],
   "source": [
    "pretrained_cnn = keras.models.load_model('./model_brain.h5')\n",
    "\n",
    "# evaluate model on holdout set\n",
    "eval_score = pretrained_cnn.evaluate(X_test,y_test)\n",
    "print('Loss:',round(eval_score[0],4))\n",
    "print('Accuracy:',round(eval_score[1],4)*100,\"%\")"
   ]
  },
  {
   "cell_type": "code",
   "execution_count": 13,
   "metadata": {},
   "outputs": [
    {
     "name": "stdout",
     "output_type": "stream",
     "text": [
      "24/24 [==============================] - 11s 431ms/step\n"
     ]
    }
   ],
   "source": [
    "y_pred = pretrained_cnn.predict(X_test)\n",
    "\n",
    "# classification using predicted values\n",
    "for i in range(len(y_pred)):\n",
    "    if y_pred[i]<0.5:\n",
    "        y_pred[i]=0\n",
    "    else:\n",
    "        y_pred[i]=1"
   ]
  },
  {
   "cell_type": "code",
   "execution_count": 14,
   "metadata": {},
   "outputs": [
    {
     "data": {
      "text/plain": [
       "{0: {'precision': 0.7952069716775599,\n",
       "  'recall': 0.9125,\n",
       "  'f1-score': 0.8498253783469151,\n",
       "  'support': 400},\n",
       " 1: {'precision': 0.8809523809523809,\n",
       "  'recall': 0.7337110481586402,\n",
       "  'f1-score': 0.8006182380216383,\n",
       "  'support': 353},\n",
       " 'accuracy': 0.8286852589641435,\n",
       " 'macro avg': {'precision': 0.8380796763149705,\n",
       "  'recall': 0.8231055240793201,\n",
       "  'f1-score': 0.8252218081842767,\n",
       "  'support': 753},\n",
       " 'weighted avg': {'precision': 0.8354036907665531,\n",
       "  'recall': 0.8286852589641435,\n",
       "  'f1-score': 0.826757489190444,\n",
       "  'support': 753}}"
      ]
     },
     "execution_count": 14,
     "metadata": {},
     "output_type": "execute_result"
    }
   ],
   "source": [
    "from sklearn.metrics import confusion_matrix , classification_report\n",
    "target_classes = ['No Tumor','Tumor']\n",
    "target_classes = [0,1]\n",
    "classification_report(y_test , y_pred , output_dict = True\n",
    "                      , target_names=target_classes)"
   ]
  },
  {
   "cell_type": "code",
   "execution_count": 15,
   "metadata": {},
   "outputs": [
    {
     "data": {
      "text/plain": [
       "array([[365,  35],\n",
       "       [ 94, 259]], dtype=int64)"
      ]
     },
     "execution_count": 15,
     "metadata": {},
     "output_type": "execute_result"
    }
   ],
   "source": [
    "confusion_matrix(y_test , y_pred ) "
   ]
  },
  {
   "cell_type": "code",
   "execution_count": null,
   "metadata": {},
   "outputs": [],
   "source": []
  }
 ],
 "metadata": {
  "kernelspec": {
   "display_name": "Python 3 (ipykernel)",
   "language": "python",
   "name": "python3"
  },
  "language_info": {
   "codemirror_mode": {
    "name": "ipython",
    "version": 3
   },
   "file_extension": ".py",
   "mimetype": "text/x-python",
   "name": "python",
   "nbconvert_exporter": "python",
   "pygments_lexer": "ipython3",
   "version": "3.9.12"
  }
 },
 "nbformat": 4,
 "nbformat_minor": 4
}
